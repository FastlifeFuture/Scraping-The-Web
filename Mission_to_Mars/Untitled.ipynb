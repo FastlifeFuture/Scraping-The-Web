{
 "cells": [
  {
   "cell_type": "code",
   "execution_count": 1,
   "id": "1710053c",
   "metadata": {},
   "outputs": [],
   "source": [
    "from bs4 import BeautifulSoup as bs\n",
    "import pandas as pd\n",
    "from splinter import Browser\n",
    "import requests \n",
    "import time\n",
    "from webdriver_manager.chrome import ChromeDriverManager"
   ]
  },
  {
   "cell_type": "code",
   "execution_count": 2,
   "id": "138665cc",
   "metadata": {
    "scrolled": false
   },
   "outputs": [
    {
     "name": "stderr",
     "output_type": "stream",
     "text": [
      "\n",
      "\n",
      "====== WebDriver manager ======\n",
      "Current google-chrome version is 100.0.4896\n",
      "Get LATEST chromedriver version for 100.0.4896 google-chrome\n",
      "There is no [mac64] chromedriver for browser  in cache\n",
      "Trying to download new driver from https://chromedriver.storage.googleapis.com/100.0.4896.60/chromedriver_mac64.zip\n",
      "Driver has been saved in cache [/Users/fastlife.future/.wdm/drivers/chromedriver/mac64/100.0.4896.60]\n"
     ]
    }
   ],
   "source": [
    "executable_path = {'executable_path': ChromeDriverManager().install()}\n",
    "browser = Browser('chrome', **executable_path, headless=False)"
   ]
  },
  {
   "cell_type": "markdown",
   "id": "a83c2451",
   "metadata": {},
   "source": [
    "Nasa Mars News"
   ]
  },
  {
   "cell_type": "code",
   "execution_count": 3,
   "id": "b4cfb2c6",
   "metadata": {},
   "outputs": [
    {
     "name": "stdout",
     "output_type": "stream",
     "text": [
      "NASA's MAVEN Explores Mars to Understand Radio Interference at Earth\n",
      "NASA’s MAVEN spacecraft has discovered “layers” and “rifts” in the electrically charged part of the upper atmosphere of Mars.\n"
     ]
    }
   ],
   "source": [
    "#Navigate Url to scrape\n",
    "Nasa_News_Url = \"https://redplanetscience.com\"\n",
    "browser.visit(Nasa_News_Url)\n",
    "time.sleep(1)\n",
    "\n",
    "# Scrape page into Soup\n",
    "html = browser.html\n",
    "soup = bs(html, \"html.parser\")\n",
    "results = soup.find(\"div\", class_ = \"list_text\")\n",
    "news_title = results.find(\"div\", class_ = \"content_title\").text\n",
    "news_p = results.find(\"div\", class_ = \"article_teaser_body\").text\n",
    "print(news_title)\n",
    "print(news_p)"
   ]
  },
  {
   "cell_type": "markdown",
   "id": "543ec494",
   "metadata": {},
   "source": [
    "JPL Mars Space IMage"
   ]
  },
  {
   "cell_type": "code",
   "execution_count": 4,
   "id": "e4a95bea",
   "metadata": {},
   "outputs": [],
   "source": [
    "#Navigate Url to scrape\n",
    "Space_Images_Url = \"https://spaceimages-mars.com\"\n",
    "browser.visit(Space_Images_Url)\n",
    "time.sleep(1)\n",
    "\n",
    "# Scrape image into Soup\n",
    "html = browser.html\n",
    "soup = bs(html, \"html.parser\")\n",
    "results = soup.find(\"div\", class_ = \"list_text\")\n",
    "featured_image_url = \"https://spaceimages-mars.com/image/featured/mars1.jpg\""
   ]
  },
  {
   "cell_type": "markdown",
   "id": "514162e8",
   "metadata": {},
   "source": [
    "Mars Facts"
   ]
  },
  {
   "cell_type": "code",
   "execution_count": 5,
   "id": "0459c3eb",
   "metadata": {},
   "outputs": [
    {
     "data": {
      "text/html": [
       "<div>\n",
       "<style scoped>\n",
       "    .dataframe tbody tr th:only-of-type {\n",
       "        vertical-align: middle;\n",
       "    }\n",
       "\n",
       "    .dataframe tbody tr th {\n",
       "        vertical-align: top;\n",
       "    }\n",
       "\n",
       "    .dataframe thead th {\n",
       "        text-align: right;\n",
       "    }\n",
       "</style>\n",
       "<table border=\"1\" class=\"dataframe\">\n",
       "  <thead>\n",
       "    <tr style=\"text-align: right;\">\n",
       "      <th></th>\n",
       "      <th>Description</th>\n",
       "      <th>Mars Value</th>\n",
       "      <th>Earth Value</th>\n",
       "    </tr>\n",
       "  </thead>\n",
       "  <tbody>\n",
       "    <tr>\n",
       "      <th>0</th>\n",
       "      <td>Mars - Earth Comparison</td>\n",
       "      <td>Mars</td>\n",
       "      <td>Earth</td>\n",
       "    </tr>\n",
       "    <tr>\n",
       "      <th>1</th>\n",
       "      <td>Diameter:</td>\n",
       "      <td>6,779 km</td>\n",
       "      <td>12,742 km</td>\n",
       "    </tr>\n",
       "    <tr>\n",
       "      <th>2</th>\n",
       "      <td>Mass:</td>\n",
       "      <td>6.39 × 10^23 kg</td>\n",
       "      <td>5.97 × 10^24 kg</td>\n",
       "    </tr>\n",
       "    <tr>\n",
       "      <th>3</th>\n",
       "      <td>Moons:</td>\n",
       "      <td>2</td>\n",
       "      <td>1</td>\n",
       "    </tr>\n",
       "    <tr>\n",
       "      <th>4</th>\n",
       "      <td>Distance from Sun:</td>\n",
       "      <td>227,943,824 km</td>\n",
       "      <td>149,598,262 km</td>\n",
       "    </tr>\n",
       "    <tr>\n",
       "      <th>5</th>\n",
       "      <td>Length of Year:</td>\n",
       "      <td>687 Earth days</td>\n",
       "      <td>365.24 days</td>\n",
       "    </tr>\n",
       "    <tr>\n",
       "      <th>6</th>\n",
       "      <td>Temperature:</td>\n",
       "      <td>-87 to -5 °C</td>\n",
       "      <td>-88 to 58°C</td>\n",
       "    </tr>\n",
       "  </tbody>\n",
       "</table>\n",
       "</div>"
      ],
      "text/plain": [
       "               Description       Mars Value      Earth Value\n",
       "0  Mars - Earth Comparison             Mars            Earth\n",
       "1                Diameter:         6,779 km        12,742 km\n",
       "2                    Mass:  6.39 × 10^23 kg  5.97 × 10^24 kg\n",
       "3                   Moons:                2                1\n",
       "4       Distance from Sun:   227,943,824 km   149,598,262 km\n",
       "5          Length of Year:   687 Earth days      365.24 days\n",
       "6             Temperature:     -87 to -5 °C      -88 to 58°C"
      ]
     },
     "execution_count": 5,
     "metadata": {},
     "output_type": "execute_result"
    }
   ],
   "source": [
    "#Navigate Url to scrape\n",
    "Mars_Facts = \"https://galaxyfacts-mars.com\"\n",
    "browser.visit(Mars_Facts)\n",
    "time.sleep(1)\n",
    "\n",
    "# Scrape image into Soup\n",
    "\n",
    "Mars = pd.read_html(Mars_Facts)\n",
    "\n",
    "df = Mars[0]\n",
    "df.columns=[\"Description\", \"Mars Value\", \"Earth Value\"]\n",
    "df.to_html(\"marstable.html\",index = False)\n",
    "df"
   ]
  },
  {
   "cell_type": "markdown",
   "id": "11daabe0",
   "metadata": {},
   "source": [
    "Mars Hemisphere"
   ]
  },
  {
   "cell_type": "code",
   "execution_count": 6,
   "id": "64ad5727",
   "metadata": {},
   "outputs": [
    {
     "data": {
      "text/plain": [
       "[{'title': 'Cerberus Hemisphere Enhanced',\n",
       "  'img_url': 'https://marshemispheres.com/images/f5e372a36edfa389625da6d0cc25d905_cerberus_enhanced.tif_full.jpg'},\n",
       " {'title': 'Schiaparelli Hemisphere Enhanced',\n",
       "  'img_url': 'https://marshemispheres.com/images/3778f7b43bbbc89d6e3cfabb3613ba93_schiaparelli_enhanced.tif_full.jpg'},\n",
       " {'title': 'Syrtis Major Hemisphere Enhanced',\n",
       "  'img_url': 'https://marshemispheres.com/images/555e6403a6ddd7ba16ddb0e471cadcf7_syrtis_major_enhanced.tif_full.jpg'},\n",
       " {'title': 'Valles Marineris Hemisphere Enhanced',\n",
       "  'img_url': 'https://marshemispheres.com/images/b3c7c6c9138f57b4756be9b9c43e3a48_valles_marineris_enhanced.tif_full.jpg'}]"
      ]
     },
     "execution_count": 6,
     "metadata": {},
     "output_type": "execute_result"
    }
   ],
   "source": [
    "#Navigate to url for scraping\n",
    "base_url  = \"https://marshemispheres.com/\"\n",
    "browser.visit(base_url)\n",
    "#Container to hold  our loop iterations\n",
    "all_urls = []\n",
    "#Iterate through the 4 different links to get the images needed\n",
    "for x in range(4):\n",
    "    html = browser.html\n",
    "    soup = bs(html, \"html.parser\")\n",
    "    \n",
    "    title = soup.find_all(\"h3\")[x].get_text()\n",
    "    browser.find_by_tag(\"h3\")[x].click()\n",
    "    \n",
    "    html = browser.html\n",
    "    soup = bs(html, \"html.parser\")\n",
    "    \n",
    "    img_url = soup.find(\"img\", class_=\"wide-image\")[\"src\"]\n",
    "    all_urls.append({\n",
    "        \"title\":title,\n",
    "        \"img_url\": base_url+img_url\n",
    "    })\n",
    "    browser.back()\n",
    "all_urls"
   ]
  },
  {
   "cell_type": "code",
   "execution_count": null,
   "id": "105669b8",
   "metadata": {},
   "outputs": [],
   "source": []
  }
 ],
 "metadata": {
  "kernelspec": {
   "display_name": "Python 3",
   "language": "python",
   "name": "python3"
  },
  "language_info": {
   "codemirror_mode": {
    "name": "ipython",
    "version": 3
   },
   "file_extension": ".py",
   "mimetype": "text/x-python",
   "name": "python",
   "nbconvert_exporter": "python",
   "pygments_lexer": "ipython3",
   "version": "3.8.8"
  }
 },
 "nbformat": 4,
 "nbformat_minor": 5
}
